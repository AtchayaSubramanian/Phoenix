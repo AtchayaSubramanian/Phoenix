{
 "cells": [
  {
   "cell_type": "code",
   "execution_count": null,
   "metadata": {},
   "outputs": [],
   "source": [
    "import PyPDF2\n",
    "import os\n",
    "import pandas as pd\n",
    "from sklearn.feature_extraction.text import TfidfVectorizer\n",
    "from sklearn.linear_model import LogisticRegression\n",
    "from sklearn.pipeline import make_pipeline\n",
    "from sklearn.model_selection import train_test_split\n",
    "from sklearn.metrics import accuracy_score, classification_report\n",
    "\n",
    "# Sample data\n",
    "data = {'Filepath': ['original_fir.pdf', 'fraudulent_fir.pdf'],\n",
    "        'Label': [1, 0]}  # 1 for original, 0 for fraudulent\n",
    "\n",
    "df = pd.DataFrame(data)\n",
    "\n",
    "# Function to extract text from PDF\n",
    "def extract_text_from_pdf(file_path):\n",
    "    with open(file_path, 'rb') as file:\n",
    "        pdf_reader = PyPDF2.PdfFileReader(file)\n",
    "        text = \"\"\n",
    "        for page_num in range(pdf_reader.numPages):\n",
    "            text += pdf_reader.getPage(page_num).extractText()\n",
    "    return text\n",
    "\n",
    "# Apply text extraction function to each file\n",
    "df['Text'] = df['Filepath'].apply(extract_text_from_pdf)\n",
    "\n",
    "# Split the data into training and testing sets\n",
    "X_train, X_test, y_train, y_test = train_test_split(df['Text'], df['Label'], test_size=0.2, random_state=42)\n",
    "\n",
    "# Create a pipeline with TF-IDF vectorizer and Logistic Regression model\n",
    "model = make_pipeline(TfidfVectorizer(stop_words='english'), LogisticRegression())\n",
    "\n",
    "# Train the model\n",
    "model.fit(X_train, y_train)\n",
    "\n",
    "# Predictions\n",
    "predictions = model.predict(X_test)\n",
    "\n",
    "# Evaluate the model\n",
    "accuracy = accuracy_score(y_test, predictions)\n",
    "report = classification_report(y_test, predictions)\n",
    "\n",
    "print(f'Accuracy: {accuracy:.2f}')\n",
    "print('Classification Report:\\n', report)"
   ]
  }
 ],
 "metadata": {
  "language_info": {
   "name": "python"
  }
 },
 "nbformat": 4,
 "nbformat_minor": 2
}
